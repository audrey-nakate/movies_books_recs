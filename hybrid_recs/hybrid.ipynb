{
 "cells": [
  {
   "cell_type": "code",
   "execution_count": 1,
   "id": "1bc22f22",
   "metadata": {},
   "outputs": [],
   "source": [
    "import numpy as np\n",
    "import pandas as pd\n",
    "import ast\n",
    "import matplotlib.pyplot as plt\n",
    "import seaborn as sns\n",
    "import nltk\n",
    "from surprise import Dataset, Reader, SVD, BaselineOnly, SVDpp, NMF, SlopeOne, CoClustering\n",
    "from sklearn.feature_extraction.text import TfidfVectorizer, CountVectorizer\n",
    "from sklearn.metrics.pairwise import linear_kernel, cosine_similarity\n",
    "from surprise.model_selection import cross_validate, train_test_split\n",
    "from surprise.prediction_algorithms import KNNBaseline, KNNBasic, KNNWithMeans, KNNWithZScore\n",
    "from surprise import accuracy\n",
    "from surprise import dump\n",
    "from sklearn.preprocessing import normalize"
   ]
  },
  {
   "cell_type": "code",
   "execution_count": 2,
   "id": "ff55bb05",
   "metadata": {},
   "outputs": [],
   "source": [
    "movies_df = pd.read_csv(\"D:\\\\Year 3 Semester 2\\\\computerScienceProject\\\\tmdb_5000_movies.csv\")\n",
    "credits_df = pd.read_csv(\"D:\\\\Year 3 Semester 2\\\\computerScienceProject\\\\tmdb_5000_credits.csv\")\n",
    "ratings_df = pd.read_excel(\"D:\\\\Year 3 Semester 2\\\\computerScienceProject\\\\movie_ratings.xlsx\")"
   ]
  },
  {
   "cell_type": "code",
   "execution_count": 3,
   "id": "1a04152f",
   "metadata": {},
   "outputs": [],
   "source": [
    "#merge the two datasets\n",
    "movies_df = movies_df.merge(credits_df, on='title')\n",
    "movies_df = movies_df.merge(ratings_df, on='movie_id')"
   ]
  },
  {
   "cell_type": "code",
   "execution_count": 4,
   "id": "8ffc9df0",
   "metadata": {},
   "outputs": [],
   "source": [
    "#selecting relevant columns\n",
    "movies_final = movies_df[[ 'id', 'title', 'genres', 'runtime', 'overview', 'keywords', 'cast', 'crew', 'User_ID', 'RATINGS']]"
   ]
  },
  {
   "cell_type": "code",
   "execution_count": 5,
   "id": "9374cadf",
   "metadata": {},
   "outputs": [
    {
     "name": "stdout",
     "output_type": "stream",
     "text": [
      "id          0\n",
      "title       0\n",
      "genres      0\n",
      "runtime     2\n",
      "overview    3\n",
      "keywords    0\n",
      "cast        0\n",
      "crew        0\n",
      "User_ID     0\n",
      "RATINGS     1\n",
      "dtype: int64\n"
     ]
    }
   ],
   "source": [
    "#check for null values\n",
    "print(movies_final.isna().sum())"
   ]
  },
  {
   "cell_type": "code",
   "execution_count": 6,
   "id": "8e743c35",
   "metadata": {},
   "outputs": [
    {
     "name": "stderr",
     "output_type": "stream",
     "text": [
      "C:\\Users\\HP\\AppData\\Local\\Temp\\ipykernel_13748\\326592079.py:2: SettingWithCopyWarning: \n",
      "A value is trying to be set on a copy of a slice from a DataFrame\n",
      "\n",
      "See the caveats in the documentation: https://pandas.pydata.org/pandas-docs/stable/user_guide/indexing.html#returning-a-view-versus-a-copy\n",
      "  movies_final.dropna(inplace=True)\n"
     ]
    }
   ],
   "source": [
    "#drop null values\n",
    "movies_final.dropna(inplace=True)"
   ]
  },
  {
   "cell_type": "code",
   "execution_count": 7,
   "id": "11fe9a85",
   "metadata": {},
   "outputs": [
    {
     "name": "stderr",
     "output_type": "stream",
     "text": [
      "C:\\Users\\HP\\AppData\\Local\\Temp\\ipykernel_13748\\4245063021.py:9: SettingWithCopyWarning: \n",
      "A value is trying to be set on a copy of a slice from a DataFrame.\n",
      "Try using .loc[row_indexer,col_indexer] = value instead\n",
      "\n",
      "See the caveats in the documentation: https://pandas.pydata.org/pandas-docs/stable/user_guide/indexing.html#returning-a-view-versus-a-copy\n",
      "  movies_final['genres'] = movies_final['genres'].apply(convert)\n",
      "C:\\Users\\HP\\AppData\\Local\\Temp\\ipykernel_13748\\4245063021.py:10: SettingWithCopyWarning: \n",
      "A value is trying to be set on a copy of a slice from a DataFrame.\n",
      "Try using .loc[row_indexer,col_indexer] = value instead\n",
      "\n",
      "See the caveats in the documentation: https://pandas.pydata.org/pandas-docs/stable/user_guide/indexing.html#returning-a-view-versus-a-copy\n",
      "  movies_final['keywords'] = movies_final['keywords'].apply(convert)\n"
     ]
    }
   ],
   "source": [
    "#function to extract genre name\n",
    "def convert(obj):\n",
    "    l = []\n",
    "\n",
    "    for i in ast.literal_eval(obj):\n",
    "        l.append(i['name'])\n",
    "    return l\n",
    "\n",
    "movies_final['genres'] = movies_final['genres'].apply(convert)\n",
    "movies_final['keywords'] = movies_final['keywords'].apply(convert)"
   ]
  },
  {
   "cell_type": "code",
   "execution_count": 8,
   "id": "e7747e20",
   "metadata": {},
   "outputs": [
    {
     "name": "stderr",
     "output_type": "stream",
     "text": [
      "C:\\Users\\HP\\AppData\\Local\\Temp\\ipykernel_13748\\1541414322.py:14: SettingWithCopyWarning: \n",
      "A value is trying to be set on a copy of a slice from a DataFrame.\n",
      "Try using .loc[row_indexer,col_indexer] = value instead\n",
      "\n",
      "See the caveats in the documentation: https://pandas.pydata.org/pandas-docs/stable/user_guide/indexing.html#returning-a-view-versus-a-copy\n",
      "  movies_final['cast'] = movies_final['cast'].apply(convert3)\n"
     ]
    }
   ],
   "source": [
    "#function to extract first three cast names\n",
    "def convert3(obj):\n",
    "    l = []\n",
    "    counter = 0\n",
    "\n",
    "    for i in ast.literal_eval(obj):\n",
    "        if counter != 3:\n",
    "            l.append(i['name'])\n",
    "            counter += 1\n",
    "        else:\n",
    "            break\n",
    "    return l\n",
    "\n",
    "movies_final['cast'] = movies_final['cast'].apply(convert3)"
   ]
  },
  {
   "cell_type": "code",
   "execution_count": 9,
   "id": "c45a6f59",
   "metadata": {},
   "outputs": [
    {
     "name": "stderr",
     "output_type": "stream",
     "text": [
      "C:\\Users\\HP\\AppData\\Local\\Temp\\ipykernel_13748\\550475311.py:11: SettingWithCopyWarning: \n",
      "A value is trying to be set on a copy of a slice from a DataFrame.\n",
      "Try using .loc[row_indexer,col_indexer] = value instead\n",
      "\n",
      "See the caveats in the documentation: https://pandas.pydata.org/pandas-docs/stable/user_guide/indexing.html#returning-a-view-versus-a-copy\n",
      "  movies_final['crew'] = movies_final['crew'].apply(extract_director)\n"
     ]
    }
   ],
   "source": [
    "# to extract director's name\n",
    "def extract_director(obj):\n",
    "    l = []\n",
    "\n",
    "    for i in ast.literal_eval(obj):\n",
    "        if i['job'] == 'Director':\n",
    "            l.append(i['name'])\n",
    "            break\n",
    "    return l\n",
    "\n",
    "movies_final['crew'] = movies_final['crew'].apply(extract_director)"
   ]
  },
  {
   "cell_type": "code",
   "execution_count": 10,
   "id": "43e9cf20",
   "metadata": {},
   "outputs": [
    {
     "name": "stderr",
     "output_type": "stream",
     "text": [
      "C:\\Users\\HP\\AppData\\Local\\Temp\\ipykernel_13748\\2814892025.py:1: SettingWithCopyWarning: \n",
      "A value is trying to be set on a copy of a slice from a DataFrame.\n",
      "Try using .loc[row_indexer,col_indexer] = value instead\n",
      "\n",
      "See the caveats in the documentation: https://pandas.pydata.org/pandas-docs/stable/user_guide/indexing.html#returning-a-view-versus-a-copy\n",
      "  movies_final['overview'] = movies_final['overview'].apply(lambda x: x.split())\n"
     ]
    }
   ],
   "source": [
    "movies_final['overview'] = movies_final['overview'].apply(lambda x: x.split()) "
   ]
  },
  {
   "cell_type": "code",
   "execution_count": 11,
   "id": "ebf6f7de",
   "metadata": {},
   "outputs": [
    {
     "name": "stderr",
     "output_type": "stream",
     "text": [
      "C:\\Users\\HP\\AppData\\Local\\Temp\\ipykernel_13748\\361890825.py:2: SettingWithCopyWarning: \n",
      "A value is trying to be set on a copy of a slice from a DataFrame.\n",
      "Try using .loc[row_indexer,col_indexer] = value instead\n",
      "\n",
      "See the caveats in the documentation: https://pandas.pydata.org/pandas-docs/stable/user_guide/indexing.html#returning-a-view-versus-a-copy\n",
      "  movies_final['genres'] = movies_final['genres'].apply(lambda x : [i.replace(\" \", \"\") for i in x])\n",
      "C:\\Users\\HP\\AppData\\Local\\Temp\\ipykernel_13748\\361890825.py:3: SettingWithCopyWarning: \n",
      "A value is trying to be set on a copy of a slice from a DataFrame.\n",
      "Try using .loc[row_indexer,col_indexer] = value instead\n",
      "\n",
      "See the caveats in the documentation: https://pandas.pydata.org/pandas-docs/stable/user_guide/indexing.html#returning-a-view-versus-a-copy\n",
      "  movies_final['keywords'] = movies_final['keywords'].apply(lambda x : [i.replace(\" \", \"\") for i in x])\n",
      "C:\\Users\\HP\\AppData\\Local\\Temp\\ipykernel_13748\\361890825.py:4: SettingWithCopyWarning: \n",
      "A value is trying to be set on a copy of a slice from a DataFrame.\n",
      "Try using .loc[row_indexer,col_indexer] = value instead\n",
      "\n",
      "See the caveats in the documentation: https://pandas.pydata.org/pandas-docs/stable/user_guide/indexing.html#returning-a-view-versus-a-copy\n",
      "  movies_final['cast'] = movies_final['cast'].apply(lambda x : [i.replace(\" \", \"\") for i in x])\n",
      "C:\\Users\\HP\\AppData\\Local\\Temp\\ipykernel_13748\\361890825.py:5: SettingWithCopyWarning: \n",
      "A value is trying to be set on a copy of a slice from a DataFrame.\n",
      "Try using .loc[row_indexer,col_indexer] = value instead\n",
      "\n",
      "See the caveats in the documentation: https://pandas.pydata.org/pandas-docs/stable/user_guide/indexing.html#returning-a-view-versus-a-copy\n",
      "  movies_final['crew'] = movies_final['crew'].apply(lambda x : [i.replace(\" \", \"\") for i in x])\n"
     ]
    }
   ],
   "source": [
    "# removing spaces between words\n",
    "movies_final['genres'] = movies_final['genres'].apply(lambda x : [i.replace(\" \", \"\") for i in x])\n",
    "movies_final['keywords'] = movies_final['keywords'].apply(lambda x : [i.replace(\" \", \"\") for i in x])\n",
    "movies_final['cast'] = movies_final['cast'].apply(lambda x : [i.replace(\" \", \"\") for i in x])\n",
    "movies_final['crew'] = movies_final['crew'].apply(lambda x : [i.replace(\" \", \"\") for i in x])"
   ]
  },
  {
   "cell_type": "code",
   "execution_count": 12,
   "id": "a1767532",
   "metadata": {},
   "outputs": [
    {
     "name": "stderr",
     "output_type": "stream",
     "text": [
      "C:\\Users\\HP\\AppData\\Local\\Temp\\ipykernel_13748\\451815744.py:1: SettingWithCopyWarning: \n",
      "A value is trying to be set on a copy of a slice from a DataFrame.\n",
      "Try using .loc[row_indexer,col_indexer] = value instead\n",
      "\n",
      "See the caveats in the documentation: https://pandas.pydata.org/pandas-docs/stable/user_guide/indexing.html#returning-a-view-versus-a-copy\n",
      "  movies_final['tags'] = movies_final['genres'] + movies_final['keywords'] + movies_final['cast'] + movies_final['crew'] + movies_final['overview']\n"
     ]
    }
   ],
   "source": [
    "movies_final['tags'] = movies_final['genres'] + movies_final['keywords'] + movies_final['cast'] + movies_final['crew'] + movies_final['overview']"
   ]
  },
  {
   "cell_type": "code",
   "execution_count": 13,
   "id": "28cf86d2",
   "metadata": {},
   "outputs": [],
   "source": [
    "movies = movies_final[['id', 'title', 'tags', 'User_ID', 'RATINGS']]"
   ]
  },
  {
   "cell_type": "code",
   "execution_count": 14,
   "id": "a0b1037b",
   "metadata": {},
   "outputs": [
    {
     "name": "stderr",
     "output_type": "stream",
     "text": [
      "C:\\Users\\HP\\AppData\\Local\\Temp\\ipykernel_13748\\3752147239.py:1: SettingWithCopyWarning: \n",
      "A value is trying to be set on a copy of a slice from a DataFrame.\n",
      "Try using .loc[row_indexer,col_indexer] = value instead\n",
      "\n",
      "See the caveats in the documentation: https://pandas.pydata.org/pandas-docs/stable/user_guide/indexing.html#returning-a-view-versus-a-copy\n",
      "  movies['tags'] = movies['tags'].apply(lambda x : \" \".join(x))\n",
      "C:\\Users\\HP\\AppData\\Local\\Temp\\ipykernel_13748\\3752147239.py:2: SettingWithCopyWarning: \n",
      "A value is trying to be set on a copy of a slice from a DataFrame.\n",
      "Try using .loc[row_indexer,col_indexer] = value instead\n",
      "\n",
      "See the caveats in the documentation: https://pandas.pydata.org/pandas-docs/stable/user_guide/indexing.html#returning-a-view-versus-a-copy\n",
      "  movies['tags'] = movies['tags'].apply(lambda x : x.lower())\n"
     ]
    }
   ],
   "source": [
    "movies['tags'] = movies['tags'].apply(lambda x : \" \".join(x))\n",
    "movies['tags'] = movies['tags'].apply(lambda x : x.lower())"
   ]
  },
  {
   "cell_type": "code",
   "execution_count": 15,
   "id": "49f2b74c",
   "metadata": {},
   "outputs": [
    {
     "name": "stderr",
     "output_type": "stream",
     "text": [
      "C:\\Users\\HP\\AppData\\Local\\Temp\\ipykernel_13748\\1226471429.py:1: SettingWithCopyWarning: \n",
      "A value is trying to be set on a copy of a slice from a DataFrame.\n",
      "Try using .loc[row_indexer,col_indexer] = value instead\n",
      "\n",
      "See the caveats in the documentation: https://pandas.pydata.org/pandas-docs/stable/user_guide/indexing.html#returning-a-view-versus-a-copy\n",
      "  movies['RATINGS'] = movies['RATINGS'].replace(0, 1)\n"
     ]
    }
   ],
   "source": [
    "movies['RATINGS'] = movies['RATINGS'].replace(0, 1)"
   ]
  },
  {
   "cell_type": "code",
   "execution_count": 16,
   "id": "a3c2f9c6",
   "metadata": {},
   "outputs": [],
   "source": [
    "reader = Reader(rating_scale = (1, 10))\n",
    "data = Dataset.load_from_df(movies[['id', 'User_ID', 'RATINGS']], reader)\n",
    "traindf = data.build_full_trainset()\n",
    "testdf = traindf.build_anti_testset()"
   ]
  },
  {
   "cell_type": "code",
   "execution_count": 17,
   "id": "31f4fdda",
   "metadata": {},
   "outputs": [
    {
     "name": "stdout",
     "output_type": "stream",
     "text": [
      "Estimating biases using als...\n",
      "Computing the cosine similarity matrix...\n",
      "Done computing similarity matrix.\n",
      "RMSE: 0.3985\n",
      "MAE:  0.3126\n"
     ]
    },
    {
     "data": {
      "text/plain": [
       "0.3125622128537393"
      ]
     },
     "execution_count": 17,
     "metadata": {},
     "output_type": "execute_result"
    }
   ],
   "source": [
    "sim_options = {'name' : 'cosine',\n",
    "               'user_based' : False  #defining similarity measures\n",
    "              }\n",
    "               \n",
    "knnbaseline_model = KNNBaseline(sim_options=sim_options)\n",
    "\n",
    "knnbaseline_model.fit(traindf)\n",
    "knnbaseline_predictions = knnbaseline_model.test(testdf)\n",
    "accuracy.rmse(knnbaseline_predictions)\n",
    "accuracy.mae(knnbaseline_predictions)"
   ]
  },
  {
   "cell_type": "code",
   "execution_count": 18,
   "id": "df4e37dc",
   "metadata": {},
   "outputs": [
    {
     "ename": "MemoryError",
     "evalue": "",
     "output_type": "error",
     "traceback": [
      "\u001b[1;31m---------------------------------------------------------------------------\u001b[0m",
      "\u001b[1;31mMemoryError\u001b[0m                               Traceback (most recent call last)",
      "Cell \u001b[1;32mIn[18], line 4\u001b[0m\n\u001b[0;32m      1\u001b[0m svdpp_model \u001b[38;5;241m=\u001b[39m SVDpp()\n\u001b[0;32m      3\u001b[0m svdpp_model\u001b[38;5;241m.\u001b[39mfit(traindf)\n\u001b[1;32m----> 4\u001b[0m svdpp_model_predictions \u001b[38;5;241m=\u001b[39m \u001b[43msvdpp_model\u001b[49m\u001b[38;5;241;43m.\u001b[39;49m\u001b[43mtest\u001b[49m\u001b[43m(\u001b[49m\u001b[43mtestdf\u001b[49m\u001b[43m)\u001b[49m\n\u001b[0;32m      6\u001b[0m accuracy\u001b[38;5;241m.\u001b[39mrmse(svdpp_model_predictions)\n\u001b[0;32m      7\u001b[0m accuracy\u001b[38;5;241m.\u001b[39mmae(svdpp_model_predictions)\n",
      "File \u001b[1;32m~\\AppData\\Local\\Programs\\Python\\Python310\\lib\\site-packages\\surprise\\prediction_algorithms\\algo_base.py:160\u001b[0m, in \u001b[0;36mAlgoBase.test\u001b[1;34m(self, testset, verbose)\u001b[0m\n\u001b[0;32m    142\u001b[0m \u001b[38;5;124;03m\"\"\"Test the algorithm on given testset, i.e. estimate all the ratings\u001b[39;00m\n\u001b[0;32m    143\u001b[0m \u001b[38;5;124;03min the given testset.\u001b[39;00m\n\u001b[0;32m    144\u001b[0m \n\u001b[1;32m   (...)\u001b[0m\n\u001b[0;32m    156\u001b[0m \u001b[38;5;124;03m    that contains all the estimated ratings.\u001b[39;00m\n\u001b[0;32m    157\u001b[0m \u001b[38;5;124;03m\"\"\"\u001b[39;00m\n\u001b[0;32m    159\u001b[0m \u001b[38;5;66;03m# The ratings are translated back to their original scale.\u001b[39;00m\n\u001b[1;32m--> 160\u001b[0m predictions \u001b[38;5;241m=\u001b[39m [\n\u001b[0;32m    161\u001b[0m     \u001b[38;5;28mself\u001b[39m\u001b[38;5;241m.\u001b[39mpredict(uid, iid, r_ui_trans, verbose\u001b[38;5;241m=\u001b[39mverbose)\n\u001b[0;32m    162\u001b[0m     \u001b[38;5;28;01mfor\u001b[39;00m (uid, iid, r_ui_trans) \u001b[38;5;129;01min\u001b[39;00m testset\n\u001b[0;32m    163\u001b[0m ]\n\u001b[0;32m    164\u001b[0m \u001b[38;5;28;01mreturn\u001b[39;00m predictions\n",
      "File \u001b[1;32m~\\AppData\\Local\\Programs\\Python\\Python310\\lib\\site-packages\\surprise\\prediction_algorithms\\algo_base.py:160\u001b[0m, in \u001b[0;36m<listcomp>\u001b[1;34m(.0)\u001b[0m\n\u001b[0;32m    142\u001b[0m \u001b[38;5;124;03m\"\"\"Test the algorithm on given testset, i.e. estimate all the ratings\u001b[39;00m\n\u001b[0;32m    143\u001b[0m \u001b[38;5;124;03min the given testset.\u001b[39;00m\n\u001b[0;32m    144\u001b[0m \n\u001b[1;32m   (...)\u001b[0m\n\u001b[0;32m    156\u001b[0m \u001b[38;5;124;03m    that contains all the estimated ratings.\u001b[39;00m\n\u001b[0;32m    157\u001b[0m \u001b[38;5;124;03m\"\"\"\u001b[39;00m\n\u001b[0;32m    159\u001b[0m \u001b[38;5;66;03m# The ratings are translated back to their original scale.\u001b[39;00m\n\u001b[1;32m--> 160\u001b[0m predictions \u001b[38;5;241m=\u001b[39m [\n\u001b[0;32m    161\u001b[0m     \u001b[38;5;28mself\u001b[39m\u001b[38;5;241m.\u001b[39mpredict(uid, iid, r_ui_trans, verbose\u001b[38;5;241m=\u001b[39mverbose)\n\u001b[0;32m    162\u001b[0m     \u001b[38;5;28;01mfor\u001b[39;00m (uid, iid, r_ui_trans) \u001b[38;5;129;01min\u001b[39;00m testset\n\u001b[0;32m    163\u001b[0m ]\n\u001b[0;32m    164\u001b[0m \u001b[38;5;28;01mreturn\u001b[39;00m predictions\n",
      "\u001b[1;31mMemoryError\u001b[0m: "
     ]
    }
   ],
   "source": [
    "svdpp_model = SVDpp()\n",
    "\n",
    "svdpp_model.fit(traindf)\n",
    "svdpp_model_predictions = svdpp_model.test(testdf)\n",
    "\n",
    "accuracy.rmse(svdpp_model_predictions)\n",
    "accuracy.mae(svdpp_model_predictions)"
   ]
  },
  {
   "cell_type": "code",
   "execution_count": null,
   "id": "3823c634",
   "metadata": {},
   "outputs": [],
   "source": [
    "#  content-based filtering\n",
    "tfidf_vectorizer = TfidfVectorizer(stop_words='english')\n",
    "content_matrix = tfidf_vectorizer.fit_transform(movies['tags'])\n",
    "content_similarity = linear_kernel(content_matrix, content_matrix)"
   ]
  },
  {
   "cell_type": "code",
   "execution_count": null,
   "id": "8e03386f",
   "metadata": {},
   "outputs": [],
   "source": [
    "mappings = pd.Series(movies.index, index=movies['title'])"
   ]
  },
  {
   "cell_type": "code",
   "execution_count": null,
   "id": "8d4376d5",
   "metadata": {},
   "outputs": [],
   "source": [
    "def get_recommendations_new(title):\n",
    "    idx = mappings[title]\n",
    "    if type(idx) != np.int64:\n",
    "        if len(idx)>1:\n",
    "            print(\"ALERT: Multiple values\")\n",
    "            idx = idx[0]\n",
    "    sim_scores = list(enumerate(cosine_sim_new[idx]))\n",
    "    sim_scores = sorted(sim_scores, key=lambda x: x[1], reverse=True)\n",
    "    sim_scores = sim_scores[1:11]\n",
    "    movie_indices = [i[0] for i in sim_scores]\n",
    "    return movies['id'].iloc[movie_indices]"
   ]
  },
  {
   "cell_type": "code",
   "execution_count": null,
   "id": "a0d84906",
   "metadata": {},
   "outputs": [],
   "source": [
    "# def hybrid(userId):\n",
    "#     user_movies = testdf[testdf['User_ID'] == userId]\n",
    "#     user_movies['est'] = user_movies['id'].apply(lambda x: 0.6*knnbaseline_algo.predict(userId,x).est + 0.4*svdpp_algo.predict(userId, x).est)    \n",
    "#     user_movies = user_movies.sort_values(by ='est', ascending=False).head(4)\n",
    "#     user_movies['Model'] = 'SVD + CF'\n",
    "# #     user_movies = user_movies['movieId'].values.tolist()\n",
    "# #     print(\"User liked movies list: \", user_movies)\n",
    "    \n",
    "#     recommend_list = user_movies[['movieId', 'est', 'Model']]\n",
    "#     print(recommend_list.head())\n",
    "\n",
    "# #     top_movie = user_movies['movieId'].iloc[0]\n",
    "# #     print(\"Top movie id\", top_movie)\n",
    "# #     top_movie_title = movies['title'][movies['movieId'] == top_movie].values[0]\n",
    "# #     print(\"Top movie title\", top_movie_title)\n",
    "\n",
    "    \n",
    "#     movie_list = recommend_list['movieId'].values.tolist()\n",
    "#     print(movie_list)\n",
    "#     sim_movies_list = []\n",
    "#     for movie_id in movie_list:\n",
    "#         # Call content based \n",
    "#         movie_title = movies['title'][movies['movieId'] == movie_id].values[0]\n",
    "#         sim_movies = get_recommendations_new(movie_title)\n",
    "# #         print(sim_movies.values.tolist())\n",
    "#         sim_movies_list.extend(sim_movies)\n",
    "    \n",
    "    \n",
    "#     # Compute ratings for the popular movies\n",
    "#     for movie_id in sim_movies_list:\n",
    "#         pred_rating = 0.6*knnbaseline_algo.predict(userId, movie_id).est + 0.4*svdpp_algo.predict(userId, movie_id).est\n",
    "#         row_df = pd.DataFrame([[movie_id, pred_rating, 'Movie similarity']], columns=['movieId', 'est','Model'])\n",
    "#         recommend_list = pd.concat([recommend_list, row_df], ignore_index=True)\n",
    "    \n",
    "#     # Popular based movies\n",
    "#     top_genre_list = user_top_genre(userId)\n",
    "#     print(\"User top genre list: \", top_genre_list)\n",
    "    \n",
    "#     popular_movies = []\n",
    "#     for top_genre in top_genre_list:\n",
    "#         popular_movies.extend(genre_based_popularity(top_genre))\n",
    "#     print(\"Final list: \", popular_movies)\n",
    "    \n",
    "#     # Compute ratings for the popular movies\n",
    "#     for movie_id in popular_movies:\n",
    "#         pred_rating = 0.6*knnbaseline_algo.predict(userId, movie_id).est + 0.4*svdpp_algo.predict(userId, movie_id).est\n",
    "#         row_df = pd.DataFrame([[movie_id, pred_rating, 'Popularity']], columns=['movieId', 'est','Model'])\n",
    "#         recommend_list = pd.concat([recommend_list, row_df], ignore_index=True)\n",
    "#     recommend_list = recommend_list.drop_duplicates(subset=['movieId'])\n",
    "#     train_movie_list = traindf[traindf['userId']==userId]['movieId'].values.tolist()\n",
    "    \n",
    "#     # Remove movies in training for this user\n",
    "#     mask = recommend_list.movieId.apply(lambda x: x not in train_movie_list)\n",
    "#     recommend_list = recommend_list[mask]\n",
    "    \n",
    "#     return recommend_list"
   ]
  }
 ],
 "metadata": {
  "kernelspec": {
   "display_name": "Python 3 (ipykernel)",
   "language": "python",
   "name": "python3"
  },
  "language_info": {
   "codemirror_mode": {
    "name": "ipython",
    "version": 3
   },
   "file_extension": ".py",
   "mimetype": "text/x-python",
   "name": "python",
   "nbconvert_exporter": "python",
   "pygments_lexer": "ipython3",
   "version": "3.10.2"
  }
 },
 "nbformat": 4,
 "nbformat_minor": 5
}
